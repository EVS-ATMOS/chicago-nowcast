{
 "cells": [
  {
   "cell_type": "code",
   "execution_count": 18,
   "metadata": {},
   "outputs": [],
   "source": [
    "import pyart, shutil, os, tempfile, boto3, pytz\n",
    "import matplotlib.pyplot as plt\n",
    "from matplotlib.animation import FuncAnimation\n",
    "from datetime import datetime\n",
    "from IPython.display import HTML, Image, display\n",
    "from tint.data_utils import get_nexrad_keys, read_nexrad_key\n",
    "from tint import Cell_tracks, animate\n",
    "from tint.visualization import embed_mp4_as_gif\n",
    "from botocore.handlers import disable_signing"
   ]
  },
  {
   "cell_type": "code",
   "execution_count": 21,
   "metadata": {},
   "outputs": [],
   "source": [
    "def get_current_scan (station_date):\n",
    "    '''\n",
    "    Function will pull the latest radar scan from any radar site using \n",
    "    Amazon S3.\n",
    "    ----------\n",
    "    station_date= 'year/month/day/station'\n",
    "    year = YYYY e.g. 1776\n",
    "    month = mm e.g. 07\n",
    "    day = dd e.g. 04\n",
    "    site = xxxx e.g. kdix\n",
    "    '''\n",
    "    bucket = 'noaa-nexrad-level2'\n",
    "    s3 = boto3.resource('s3')\n",
    "    s3.meta.client.meta.events.register('choose-signer.s3.*', disable_signing)\n",
    "    \n",
    "    aws_radar = s3.Bucket(bucket)\n",
    "    \n",
    "    for obj in aws_radar.objects.filter(Prefix= station_date):\n",
    "        '{0}:{1}'.format(aws_radar.name, obj.key)\n",
    "    my_list_of_keys = [this_object.key for this_object in aws_radar.objects.filter(Prefix= station_date)]\n",
    "    print(my_list_of_keys[-1])\n",
    "    \n",
    "    return\n"
   ]
  },
  {
   "cell_type": "code",
   "execution_count": 22,
   "metadata": {},
   "outputs": [
    {
     "name": "stdout",
     "output_type": "stream",
     "text": [
      "2018/06/05/KLOT/KLOT20180605_132647_V06\n"
     ]
    }
   ],
   "source": [
    "date = get_current_scan('2018/06/05/KLOT')\n"
   ]
  },
  {
   "cell_type": "code",
   "execution_count": null,
   "metadata": {},
   "outputs": [],
   "source": []
  }
 ],
 "metadata": {
  "kernelspec": {
   "display_name": "Python 3",
   "language": "python",
   "name": "python3"
  },
  "language_info": {
   "codemirror_mode": {
    "name": "ipython",
    "version": 3
   },
   "file_extension": ".py",
   "mimetype": "text/x-python",
   "name": "python",
   "nbconvert_exporter": "python",
   "pygments_lexer": "ipython3",
   "version": "3.6.4"
  }
 },
 "nbformat": 4,
 "nbformat_minor": 2
}
