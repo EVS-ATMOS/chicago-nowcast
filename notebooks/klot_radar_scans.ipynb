{
 "cells": [
  {
   "cell_type": "code",
   "execution_count": null,
   "metadata": {},
   "outputs": [],
   "source": [
    "# Jason Hemedinger\n",
    "# Argonne National Laboratory\n"
   ]
  },
  {
   "cell_type": "code",
   "execution_count": null,
   "metadata": {},
   "outputs": [],
   "source": [
    "import pyart, boto3, tempfile, os, shutil\n",
    "import numpy as np\n",
    "import pandas as pd\n",
    "import seaborn as sns\n",
    "import matplotlib.pyplot as plt\n",
    "from matplotlib import animation\n",
    "from botocore.handlers import disable_signing\n",
    "from tint import Cell_tracks\n",
    "from tint import animate as tint_animate\n",
    "from tint.visualization import embed_mp4_as_gif\n",
    "from glob import glob\n",
    "from datetime import datetime\n",
    "from pylab import *"
   ]
  },
  {
   "cell_type": "code",
   "execution_count": null,
   "metadata": {},
   "outputs": [],
   "source": [
    "def get_current_scan(station_date, key_index):\n",
    "    '''\n",
    "    Function will pull the latest radar scan from any radar site using \n",
    "    Amazon S3.\n",
    "    ----------\n",
    "    station_date= 'year/month/day/station'\n",
    "    year = YYYY e.g. 1776\n",
    "    month = mm e.g. 07\n",
    "    day = dd e.g. 04\n",
    "    site = xxxx e.g. kdix\n",
    "    '''\n",
    "    bucket = 'noaa-nexrad-level2'\n",
    "    s3 = boto3.resource('s3')\n",
    "    s3.meta.client.meta.events.register('choose-signer.s3.*', disable_signing)\n",
    "    \n",
    "    aws_radar = s3.Bucket(bucket)\n",
    "    \n",
    "    for obj in aws_radar.objects.filter(Prefix= station_date):\n",
    "        '{0}:{1}'.format(aws_radar.name, obj.key)\n",
    "    my_list_of_keys = [this_object.key for this_object in aws_radar.objects.filter(Prefix= station_date)]\n",
    "    keys = my_list_of_keys[key_index:]\n",
    "    print(my_list_of_keys[key_index:])\n",
    "    \n",
    "    \n",
    "    return aws_radar, keys"
   ]
  },
  {
   "cell_type": "code",
   "execution_count": null,
   "metadata": {},
   "outputs": [],
   "source": [
    "#setting the radar site and which keys to pull.\n",
    "aws_radar, keys = get_current_scan('2018/07/2/KLOT', key_index=-15)"
   ]
  },
  {
   "cell_type": "code",
   "execution_count": null,
   "metadata": {},
   "outputs": [],
   "source": [
    "#animating using matplotlib and pyart\n",
    "def animate(nframe):\n",
    "    plt.clf()\n",
    "    localfile = tempfile.NamedTemporaryFile()\n",
    "    aws_radar.download_file(keys[nframe], localfile.name)\n",
    "    radar = pyart.io.read(localfile.name)\n",
    "    display = pyart.graph.RadarMapDisplay(radar)\n",
    "    # Delete radar after use to save memory.\n",
    "    del radar\n",
    "    display.plot_ppi_map('reflectivity', sweep=0, resolution='l',\n",
    "                         vmin=-8, vmax=64, mask_outside=False, \n",
    "                         fig=fig, width=350000, height=350000, \n",
    "                        cmap = pyart.graph.cm.LangRainbow12 )\n",
    "    display.basemap.drawcounties()\n",
    "    display.plot_point(-87.981810, 41.713969 , label_text='ANL', symbol='ko')\n",
    "#    display.plot_point(-87.04361, 41.46361, label_text='VU', color='k')\n",
    "fig = plt.figure(figsize=(10, 8))\n",
    "anim_klot = animation.FuncAnimation(fig, animate,\n",
    "                                    frames=len(keys))\n",
    "anim_klot.save('reflectivity_animation.gif', \n",
    "               writer='imagemagick', fps=2)\n",
    "plt.show()\n",
    "plt.close()"
   ]
  },
  {
   "cell_type": "code",
   "execution_count": null,
   "metadata": {},
   "outputs": [],
   "source": [
    "out_path_dir = '/home/jhemedinger/suli_projects/chicago-nowcast/events/2018_06_26/testing'\n",
    "#out_path_dir = '/home/jhemedinger/suli_projects/chicago-nowcast/events/2018_06_26/20180626-22Z'\n",
    "#out_path_dir2 = '/home/jhemedinger/suli_projects/chicago-nowcast/events/2018_06_26/20180626-23Z'"
   ]
  },
  {
   "cell_type": "code",
   "execution_count": null,
   "metadata": {},
   "outputs": [],
   "source": [
    "#turing the data into grid data and saving it to a folder\n",
    "def get_grid(aws_radar, key):\n",
    "    localfile = tempfile.NamedTemporaryFile()\n",
    "    aws_radar.download_file(key, localfile.name)\n",
    "    radar = pyart.io.read(localfile.name)\n",
    "    grid = pyart.map.grid_from_radars(\n",
    "            radar, grid_shape=(31, 401, 401),\n",
    "            grid_limits=((0, 15000), (-200000, 200000), (-200000, 200000)),\n",
    "            fields=['reflectivity'], gridding_algo='map_gates_to_grid',\n",
    "            h_factor=0., nb=0.6, bsp=1., min_radius=200.)\n",
    "    return grid\n",
    "\n",
    "#out_path_dir = '/home/jhemedinger/suli_projects/chicago-nowcast/events\n",
    "\n",
    "for num,key in enumerate(keys):\n",
    "    print('saving grid', num)\n",
    "    grid = get_grid(aws_radar, key)\n",
    "    name = os.path.join(out_path_dir, 'grid_' + str(num).zfill(3) + '.nc')\n",
    "    pyart.io.write_grid(name, grid)\n",
    "    del grid"
   ]
  },
  {
   "cell_type": "code",
   "execution_count": null,
   "metadata": {},
   "outputs": [],
   "source": [
    "#files_2 = [os.path.join(out_dir, fn) for fn in os.listdir(out_dir)]\n",
    "files = glob(out_path_dir + '/grid_*')\n",
    "files.sort()"
   ]
  },
  {
   "cell_type": "code",
   "execution_count": null,
   "metadata": {},
   "outputs": [],
   "source": [
    "grid_gen = (pyart.io.read_grid(f) for f in files)\n",
    "#grid_list = [pyart.io.read_grid(f) for f in files]"
   ]
  },
  {
   "cell_type": "code",
   "execution_count": null,
   "metadata": {},
   "outputs": [],
   "source": [
    "tracks_obj = Cell_tracks()\n",
    "tracks_obj.params"
   ]
  },
  {
   "cell_type": "code",
   "execution_count": null,
   "metadata": {},
   "outputs": [],
   "source": [
    "tracks_obj.params['FIELD_THRESH']=35\n",
    "#tracks_obj.params['min_size']=16"
   ]
  },
  {
   "cell_type": "code",
   "execution_count": null,
   "metadata": {},
   "outputs": [],
   "source": [
    "tracks_obj.get_tracks(grid_gen)"
   ]
  },
  {
   "cell_type": "code",
   "execution_count": null,
   "metadata": {
    "scrolled": true
   },
   "outputs": [],
   "source": [
    "tracks_obj.tracks"
   ]
  },
  {
   "cell_type": "code",
   "execution_count": null,
   "metadata": {},
   "outputs": [],
   "source": [
    "if os.path.exists(out_path_dir + '/test_animation.mp4'):\n",
    "    print(out_path_dir + '/test_animation.mp4'\n",
    "          + ' already exists, removing file')\n",
    "    os.remove(out_path_dir + '/test_animation.mp4')"
   ]
  },
  {
   "cell_type": "code",
   "execution_count": null,
   "metadata": {
    "scrolled": true
   },
   "outputs": [],
   "source": [
    "grid_gen = (pyart.io.read_grid(f) for f in files)\n",
    "tint_animate(tracks_obj, grid_gen, os.path.join(out_path_dir, 'test_animation'), tracers=True)"
   ]
  },
  {
   "cell_type": "code",
   "execution_count": null,
   "metadata": {},
   "outputs": [],
   "source": [
    "embed_mp4_as_gif(out_path_dir + '/test_animation.mp4')"
   ]
  },
  {
   "cell_type": "code",
   "execution_count": null,
   "metadata": {
    "scrolled": true
   },
   "outputs": [],
   "source": [
    "cells = tracks_obj.tracks.groupby(level='uid')\n",
    "for uid in cells:\n",
    "    print(uid)"
   ]
  },
  {
   "cell_type": "code",
   "execution_count": null,
   "metadata": {},
   "outputs": [],
   "source": [
    "tracks_obj.tracks.groupby(level='uid').size().sort_values(ascending=False)[:]"
   ]
  },
  {
   "cell_type": "code",
   "execution_count": null,
   "metadata": {},
   "outputs": [],
   "source": [
    "df_161 = pd.DataFrame(tracks_obj.tracks.xs('161', level='uid'))\n",
    "lons, lats = np.array(df_161['lon']), np.array(df_161['lat'])\n",
    "time = np.array(pd.to_datetime(df_161['time']))"
   ]
  },
  {
   "cell_type": "code",
   "execution_count": null,
   "metadata": {},
   "outputs": [],
   "source": [
    "fit = polyfit(lons,lats,1)\n",
    "fit_fn = poly1d(fit)\n",
    "\n",
    "fig = plt.figure(figsize=(10,8))\n",
    "plt.plot(lons, fit_fn(lons), '--b')\n",
    "plt.plot(lons, lats, color='k', marker='o')\n",
    "#plt.plot(-87.981810, 41.713969, color='r', marker='*')\n",
    "plt.xlabel('LONGITUDE')\n",
    "plt.ylabel('LATITUDE')\n",
    "plt.show()\n",
    "plt.close()"
   ]
  },
  {
   "cell_type": "code",
   "execution_count": null,
   "metadata": {},
   "outputs": [],
   "source": [
    "t = (time - np.datetime64('1970-01-01T00:00:00Z')) / np.timedelta64(1, 's')\n",
    "x, y = lats, lons\n",
    "\n",
    "\n",
    "fit_lat = polyfit(t,x,1)\n",
    "fit_lon = polyfit(t,y,1)\n",
    "fit_fn_lon = poly1d(fit_lon)\n",
    "fit_fn_lat = poly1d(fit_lat)\n",
    "\n",
    "fig = plt.figure(figsize=(10,8))\n",
    "plt.plot(time, x, 'ro', time, fit_fn_lat(t), '--k')\n",
    "plt.xlabel('TIME (UTC)')\n",
    "plt.ylabel('LATITUDE')\n",
    "plt.show()\n",
    "plt.close()\n",
    "\n",
    "fig = plt.figure(figsize=(10,8))\n",
    "plt.plot(time, y, 'bo', time, fit_fn_lon(t), '--k')\n",
    "plt.xlabel('TIME (UTC)')\n",
    "plt.ylabel('LONGITUDE')\n",
    "plt.show()\n",
    "plt.close()"
   ]
  },
  {
   "cell_type": "code",
   "execution_count": null,
   "metadata": {},
   "outputs": [],
   "source": [
    "def lats_lons(minimum, maximum, interval):\n",
    "    '''\n",
    "    Will predict lat/lon for a given time interval.\n",
    "    Returns time, lat, and lon\n",
    "    beginning: beginning of the time interval\n",
    "    end: end of interval\n",
    "    interval: time interval in minutes\n",
    "    \n",
    "    Ex: lats_lons(10, 70, 10) will find the lat/lon \n",
    "    for the next hour every 10 minutes.\n",
    "    '''\n",
    "    minimum = minimum\n",
    "    maximum = maximum\n",
    "    interval = interval\n",
    "    arr = np.arange(minimum, maximum, interval) \n",
    "    my_time = []\n",
    "    for i in arr:\n",
    "        my_time.append(time[-1] + np.timedelta64(str(i), 'm'))\n",
    "    my_new_time = np.array(my_time)\n",
    "    nts = ((my_new_time - np.datetime64('1970-01-01T00:00:00Z')) \n",
    "           / np.timedelta64(1, 's'))\n",
    "    my_new_lat = fit_fn_lat(nts)\n",
    "    my_new_lon = fit_fn_lon(nts)\n",
    "    print(my_new_lon)\n",
    "    print(my_new_lat)\n",
    "    return my_new_time, my_new_lat, my_new_lon"
   ]
  },
  {
   "cell_type": "code",
   "execution_count": null,
   "metadata": {},
   "outputs": [],
   "source": [
    "my_new_time, my_new_lat, my_new_lon = lats_lons(10, 110,10)"
   ]
  },
  {
   "cell_type": "code",
   "execution_count": null,
   "metadata": {},
   "outputs": [],
   "source": [
    "#animating using matplotlib and pyart\n",
    "def animate(nframe):\n",
    "    plt.clf()\n",
    "    localfile = tempfile.NamedTemporaryFile()\n",
    "    aws_radar.download_file(keys[nframe], localfile.name)\n",
    "    radar = pyart.io.read(localfile.name)\n",
    "    display = pyart.graph.RadarMapDisplay(radar)\n",
    "    # Delete radar after use to save memory.\n",
    "    del radar\n",
    "    display.plot_ppi_map('reflectivity', sweep=0, resolution='l',\n",
    "                         vmin=-8, vmax=64, mask_outside=True, \n",
    "                         fig=fig, width=200000, height=200000,\n",
    "                         cmap=pyart.graph.cm.LangRainbow12)\n",
    "    display.basemap.drawcounties()\n",
    "    display.plot_line_geo(my_new_lon, my_new_lat, '--r')\n",
    "    display.plot_line_geo(lons[:nframe], lats[:nframe], '-k')\n",
    "    display.plot_point(-87.981810, 41.713969 , label_text='ANL', symbol='ko')\n",
    "fig = plt.figure(figsize=(10, 8))\n",
    "\n",
    "anim_klot = animation.FuncAnimation(fig, animate, \n",
    "                                    frames=len(keys))\n",
    "anim_klot.save(out_path_dir + '/reflectivity_animation_bleh.gif', \n",
    "               writer='imagemagick', fps=1)\n",
    "plt.show()\n",
    "plt.close()"
   ]
  },
  {
   "cell_type": "code",
   "execution_count": null,
   "metadata": {},
   "outputs": [],
   "source": []
  }
 ],
 "metadata": {
  "kernelspec": {
   "display_name": "Python 3",
   "language": "python",
   "name": "python3"
  },
  "language_info": {
   "codemirror_mode": {
    "name": "ipython",
    "version": 3
   },
   "file_extension": ".py",
   "mimetype": "text/x-python",
   "name": "python",
   "nbconvert_exporter": "python",
   "pygments_lexer": "ipython3",
   "version": "3.6.4"
  }
 },
 "nbformat": 4,
 "nbformat_minor": 2
}
