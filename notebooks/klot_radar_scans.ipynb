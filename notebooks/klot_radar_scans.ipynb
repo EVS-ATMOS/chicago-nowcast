{
 "cells": [
  {
   "cell_type": "code",
   "execution_count": null,
   "metadata": {},
   "outputs": [],
   "source": [
    "# Jason Hemedinger\n",
    "# Argonne National Laboratory\n",
    "#SULI Summer 2018\n",
    "#Project titled: Storm Cell Tracking and Nowcasting for Argonne National Laboratory"
   ]
  },
  {
   "cell_type": "code",
   "execution_count": null,
   "metadata": {},
   "outputs": [],
   "source": [
    "from pylab import *\n",
    "import pyart, boto3, tempfile, os, shutil, datetime, matplotlib\n",
    "import numpy as np\n",
    "import pandas as pd\n",
    "import seaborn as sns\n",
    "import cartopy.crs as ccrs\n",
    "import matplotlib.pyplot as plt\n",
    "from matplotlib import animation\n",
    "from botocore.handlers import disable_signing\n",
    "from tint import Cell_tracks\n",
    "from tint import animate as tint_animate\n",
    "from tint.visualization import embed_mp4_as_gif\n",
    "from math import sin, cos, sqrt, atan2, radians\n",
    "from glob import glob"
   ]
  },
  {
   "cell_type": "code",
   "execution_count": null,
   "metadata": {},
   "outputs": [],
   "source": [
    "def get_radar_scan(station='KLOT', date=None, key_index=-15):\n",
    "    '''\n",
    "    Function will pull the latest radar scan from any radar site using \n",
    "    Amazon S3.\n",
    "    ----------\n",
    "    Station = Four letter NEXRAD identifier\n",
    "              Example: 'KEPZ'\n",
    "    Date = default is none for current date, else enter date in format \"YYYY/MM/DD\"\n",
    "    Ex: date ='2013/11/17\n",
    "    Key_index = Number of keys you want pulled from most recent scan.\n",
    "    Ex: key_index = -15 would pull ht most recent 15 scans\n",
    "    '''\n",
    "    \n",
    "    #creating a bucket and a client to be able to pull data from AWS and setting \n",
    "    #it as unsigned\n",
    "    bucket = 'noaa-nexrad-level2'\n",
    "    s3 = boto3.resource('s3')\n",
    "    s3.meta.client.meta.events.register('choose-signer.s3.*', disable_signing)\n",
    "    \n",
    "    #connects the bucket create above with radar data\n",
    "    aws_radar = s3.Bucket(bucket)\n",
    "    \n",
    "    #setting the date and time to current.\n",
    "    #this will allow for allow the current date's radar scands to be pulled\n",
    "    if date == None:\n",
    "        target_string = datetime.datetime.utcnow().strftime('%Y/%m/%d/'+station)\n",
    "    else:\n",
    "        target_string = date+'/'+station\n",
    "        \n",
    "    \n",
    "    for obj in aws_radar.objects.filter(Prefix= target_string):\n",
    "        '{0}:{1}'.format(aws_radar.name, obj.key)\n",
    "    my_list_of_keys = [this_object.key for this_object in aws_radar.objects.filter(Prefix= target_string)]\n",
    "    keys = my_list_of_keys[key_index:]\n",
    "    print(keys)\n",
    "    return aws_radar, keys"
   ]
  },
  {
   "cell_type": "code",
   "execution_count": null,
   "metadata": {},
   "outputs": [],
   "source": [
    "def new_directory(date = 'current', \n",
    "                  year = datetime.datetime.utcnow().strftime('%Y'), \n",
    "                  month = datetime.datetime.utcnow().strftime('%m'), \n",
    "                  day = datetime.datetime.utcnow().strftime('%d'), \n",
    "                  hour = datetime.datetime.utcnow().strftime('%H'), \n",
    "                  path = '/home/jhemedinger/suli_projects/chicago-nowcast/events'):\n",
    "    \"\"\" \n",
    "    Function will create a new directory and save all data and images to that file\n",
    "    ----------\n",
    "    date: options are either current or past- current will create a file of the current date and time\n",
    "          past will allow for a file of a previous date and time to be created\n",
    "          Ex: date='past'\n",
    "    year: year of the date for the file being created. If no yearis given then current year is used\n",
    "    month: same as year but for month\n",
    "    day: same as year and month but for day\n",
    "    hour: hour for which the data is from, if not set hour is set to current\n",
    "    paht: path for where the new directory will be created and saved\n",
    "    \"\"\"\n",
    "    \n",
    "    if date == 'past':\n",
    "        past_date = str(datetime.datetime(year, month, day).strftime('%Y_%m_%d'))\n",
    "        out_dir_path = path+'/'+past_date\n",
    "        event_date = str(datetime.datetime(year, month, day, hour).strftime('%Y%m%d-%H'))\n",
    "    elif date == 'current':\n",
    "        cur_date = str(datetime.datetime.utcnow().strftime('%Y_%m_%d'))\n",
    "        out_dir_path = path+'/'+cur_date\n",
    "        event_date = str(datetime.datetime.utcnow().strftime('%Y%m%d-%H'))\n",
    "    out_dir = os.makedirs(out_dir_path, exist_ok=True)    \n",
    "    out_path_dir = out_dir_path+'/'+event_date+'Z'\n",
    "    out_path = os.makedirs(out_path_dir, exist_ok=True)\n",
    "    print('current saving directory:', out_path_dir)\n",
    "    return out_path_dir"
   ]
  },
  {
   "cell_type": "code",
   "execution_count": null,
   "metadata": {},
   "outputs": [],
   "source": [
    "#setting the radar information to be pulled from AWS as well as created a new directory for the data to be saved to\n",
    "aws_radar, keys = get_radar_scan('KLOT', '2018/06/26', -21)\n",
    "out_path_dir = new_directory('past', 2018, 6, 26, 21)"
   ]
  },
  {
   "cell_type": "code",
   "execution_count": null,
   "metadata": {},
   "outputs": [],
   "source": [
    "#creating a radar animation using pyart and matplotlib functions\n",
    "def animate(nframe):\n",
    "    plt.clf()\n",
    "    localfile = tempfile.NamedTemporaryFile()\n",
    "    aws_radar.download_file(keys[nframe], localfile.name)\n",
    "    radar = pyart.io.read(localfile.name)\n",
    "    display = pyart.graph.RadarMapDisplay(radar)\n",
    "    # Delete radar after use to save memory.\n",
    "    del radar\n",
    "    display.plot_ppi_map('reflectivity', sweep=0, resolution='l',\n",
    "                         vmin=-8, vmax=64, mask_outside=False, \n",
    "                         fig=fig, width=350000, height=350000, \n",
    "                         cmap = pyart.graph.cm.LangRainbow12 )\n",
    "\n",
    "    display.basemap.drawcounties()\n",
    "    display.plot_point(-87.981810, 41.713969 , label_text='ANL', symbol='ko')\n",
    "fig = plt.figure(figsize=(10, 8))\n",
    "\n",
    "anim_klot = animation.FuncAnimation(fig, animate,\n",
    "                                    frames=len(keys))\n",
    "anim_klot.save(out_path_dir + '/reflectivity_animation.gif', \n",
    "               writer='imagemagick', fps=2)\n",
    "plt.show()\n",
    "plt.close()"
   ]
  },
  {
   "cell_type": "code",
   "execution_count": null,
   "metadata": {
    "scrolled": false
   },
   "outputs": [],
   "source": [
    "#turing the data into grid data and saving it to a folder\n",
    "def get_grid(aws_radar, key):\n",
    "    localfile = tempfile.NamedTemporaryFile()\n",
    "    aws_radar.download_file(key, localfile.name)\n",
    "    radar = pyart.io.read(localfile.name)\n",
    "    grid = pyart.map.grid_from_radars(\n",
    "            radar, grid_shape=(31, 401, 401),\n",
    "            grid_limits=((0, 15000), (-200000, 200000), (-200000, 200000)),\n",
    "            fields=['reflectivity'], weighting_function='Barnes', gridding_algo='map_gates_to_grid',\n",
    "            h_factor=0., nb=0.6, bsp=1., min_radius=200.)\n",
    "    return grid\n",
    "\n",
    "for num,key in enumerate(keys):\n",
    "    print('saving grid', num)\n",
    "    grid = get_grid(aws_radar, key)\n",
    "    name = os.path.join(out_path_dir, 'grid_' + str(num).zfill(3) + '.nc')\n",
    "    pyart.io.write_grid(name, grid)\n",
    "    del grid"
   ]
  },
  {
   "cell_type": "code",
   "execution_count": null,
   "metadata": {},
   "outputs": [],
   "source": [
    "#reading in the gridded data to be used with TINT\n",
    "files = glob(out_path_dir + '/grid_*')\n",
    "files.sort()"
   ]
  },
  {
   "cell_type": "code",
   "execution_count": null,
   "metadata": {},
   "outputs": [],
   "source": [
    "#creating a grid generator to be able to read the grids into TINT\n",
    "grid_gen = (pyart.io.read_grid(f) for f in files)"
   ]
  },
  {
   "cell_type": "code",
   "execution_count": null,
   "metadata": {},
   "outputs": [],
   "source": [
    "#creating the cell tracks and changing the minimum threshold value for reflectivity\n",
    "tracks_obj = Cell_tracks()\n",
    "tracks_obj.params['FIELD_THRESH']=35"
   ]
  },
  {
   "cell_type": "code",
   "execution_count": null,
   "metadata": {},
   "outputs": [],
   "source": [
    "tracks_obj.get_tracks(grid_gen)"
   ]
  },
  {
   "cell_type": "code",
   "execution_count": null,
   "metadata": {},
   "outputs": [],
   "source": [
    "tracks_obj.tracks"
   ]
  },
  {
   "cell_type": "code",
   "execution_count": null,
   "metadata": {},
   "outputs": [],
   "source": [
    "# this section is only necessary to run if there is already a file within the directory with the same name\n",
    "#if you rerun code without deleting the old file an error will occur since the old file was not overwritten\n",
    "if os.path.exists(out_path_dir + '/tracks_animation.mp4'):\n",
    "    print(out_path_dir + '/tracks_animation.mp4'\n",
    "          + ' already exists, removing file')\n",
    "    os.remove(out_path_dir + '/tracks_animation.mp4')"
   ]
  },
  {
   "cell_type": "code",
   "execution_count": null,
   "metadata": {
    "scrolled": true
   },
   "outputs": [],
   "source": [
    "#using the animate function within TINT to get the cell tracks\n",
    "#lat_lines = np.arange(40, 44, 1)\n",
    "#lon_lines = np.arange(-90, -85, 1)\n",
    "\n",
    "grid_gen = (pyart.io.read_grid(f) for f in files)\n",
    "tint_animate(tracks_obj, grid_gen, os.path.join(out_path_dir, 'tracks_animation'), tracers=True, \n",
    "             cmap=pyart.graph.cm.LangRainbow12)#, lat_lines=lat_lines, lon_lines=lon_lines)"
   ]
  },
  {
   "cell_type": "code",
   "execution_count": null,
   "metadata": {},
   "outputs": [],
   "source": [
    "embed_mp4_as_gif(out_path_dir + '/tracks_animation.mp4')"
   ]
  },
  {
   "cell_type": "code",
   "execution_count": null,
   "metadata": {},
   "outputs": [],
   "source": [
    "#seperating the data by uid\n",
    "cells = tracks_obj.tracks.groupby(level='uid')\n",
    "for uid in cells:\n",
    "    print(uid)"
   ]
  },
  {
   "cell_type": "code",
   "execution_count": null,
   "metadata": {
    "scrolled": true
   },
   "outputs": [],
   "source": [
    "tracks_obj.tracks.groupby(level='uid').size().sort_values(ascending=False)[:]"
   ]
  },
  {
   "cell_type": "code",
   "execution_count": null,
   "metadata": {
    "scrolled": false
   },
   "outputs": [],
   "source": [
    "#pulling the data for a specific uid\n",
    "df_0 = pd.DataFrame(tracks_obj.tracks.xs('0', level='uid'))\n",
    "lons, lats = np.array(df_0['lon']), np.array(df_0['lat'])\n",
    "time = np.array(pd.to_datetime(df_0['time']))\n",
    "print(df_0)"
   ]
  },
  {
   "cell_type": "code",
   "execution_count": null,
   "metadata": {},
   "outputs": [],
   "source": [
    "#creating the linear regression using polyfit and poly1d\n",
    "fit = polyfit(lons[:10],lats[:10],1)\n",
    "fit_fn = poly1d(fit)\n",
    "\n",
    "#plotting the regression and the lat/lon data and showing the 95% confidence interval of the regression model\n",
    "fig = plt.figure(figsize=(10,8))\n",
    "plt.plot(lons[:10], lats[:10], '--ok', label='Latitude/Longitude')\n",
    "sns.regplot(lons[:10], lats[:10], color='b')\n",
    "#for i, txt in enumerate(time[:11]):\n",
    "#    plt.annotate(txt, (lons[:][i], lats[:][i]))\n",
    "plt.plot(lons[:10], fit_fn(lons[:10]), '-b',\n",
    "         label='Linear Regression \\nwith 95% Confidence Interval')\n",
    "\n",
    "plt.xlabel('LONGITUDE')\n",
    "plt.ylabel('LATITUDE')\n",
    "plt.legend(loc=4)\n",
    "#font = { 'family' : 'normal',\n",
    "#            'size'   : 15}\n",
    "#matplotlib.rc('font', **font)\n",
    "#plt.grid()\n",
    "plt.title('June 26, 2018 FIELD_THRESH=35dBz')\n",
    "plt. savefig(out_path_dir + '/regression.png', dpi=300, bbox_inches='tight')\n",
    "plt.show()\n",
    "plt.close()"
   ]
  },
  {
   "cell_type": "code",
   "execution_count": null,
   "metadata": {},
   "outputs": [],
   "source": [
    "t = (time[:10] - np.datetime64('1970-01-01T00:00:00Z')) / np.timedelta64(1, 's')\n",
    "x, y = lats[:10], lons[:10]\n",
    "\n",
    "fit_lat = polyfit(t,x,1)\n",
    "fit_lon = polyfit(t,y,1)\n",
    "fit_fn_lon = poly1d(fit_lon)\n",
    "fit_fn_lat = poly1d(fit_lat)\n",
    "#font = { 'family' : 'normal',\n",
    "#            'size'   : 15}\n",
    "#matplotlib.rc('font', **font)\n",
    "fig = plt.figure(figsize=(10,8))\n",
    "plt.plot(time[:10], x, 'ro', time[:10], fit_fn_lat(t), '--k')\n",
    "\n",
    "plt.xlabel('TIME (UTC)')\n",
    "plt.ylabel('LATITUDE')\n",
    "plt.title('Latitudinal Time Series')\n",
    "\n",
    "plt.savefig(out_path_dir + '/lat_reg.png', dpi=300)\n",
    "plt.show()\n",
    "plt.close()\n",
    "\n",
    "fig = plt.figure(figsize=(10,8))\n",
    "plt.plot(time[:10], y, 'bo', time[:10], fit_fn_lon(t), '--k')\n",
    "plt.xlabel('TIME (UTC)')\n",
    "plt.ylabel('LONGITUDE')\n",
    "plt.title('Longitudinal Time Series')\n",
    "plt.savefig(out_path_dir + '/lon_reg.png', dpi=300)\n",
    "plt.show()\n",
    "plt.close()"
   ]
  },
  {
   "cell_type": "code",
   "execution_count": null,
   "metadata": {},
   "outputs": [],
   "source": [
    "def lats_lons(minimum, maximum, interval):\n",
    "    '''\n",
    "    Will predict lat/lon for a given time interval.\n",
    "    Returns time, lat, and lon\n",
    "    beginning: beginning of the time interval\n",
    "    end: end of interval\n",
    "    interval: time interval in minutes\n",
    "    \n",
    "    Ex: lats_lons(10, 70, 10) will find the lat/lon \n",
    "    for the next hour every 10 minutes.\n",
    "    '''\n",
    "    minimum = minimum\n",
    "    maximum = maximum\n",
    "    interval = interval\n",
    "    arr = np.arange(minimum, maximum, interval) \n",
    "    my_time = []\n",
    "    for i in arr:\n",
    "        my_time.append(time[:10][-1] + np.timedelta64(str(i), 'm'))\n",
    "    my_new_time = np.array(my_time)\n",
    "    nts = ((my_new_time - np.datetime64('1970-01-01T00:00:00Z')) \n",
    "           / np.timedelta64(1, 's'))\n",
    "    my_new_lat = fit_fn_lat(nts)\n",
    "    my_new_lon = fit_fn_lon(nts)\n",
    "#    print(my_new_time)\n",
    "#    print(my_new_lon)\n",
    "#    print(my_new_lat)\n",
    "\n",
    "    return my_new_time, my_new_lat, my_new_lon"
   ]
  },
  {
   "cell_type": "code",
   "execution_count": null,
   "metadata": {},
   "outputs": [],
   "source": [
    "my_new_time, my_new_lat, my_new_lon = lats_lons(10,110,10)"
   ]
  },
  {
   "cell_type": "code",
   "execution_count": null,
   "metadata": {},
   "outputs": [],
   "source": [
    "#calculating the distance the center of a cell is from Argonne using the Haversine formula\n",
    "#unit for distance is km\n",
    "for i in range(10):\n",
    "    anl_lon = radians(-87.981810)\n",
    "    anl_lat = radians(41.713969)\n",
    "    storm_lon = radians(my_new_lon[-10:][i])\n",
    "    storm_lat = radians(my_new_lat[-10:][i])\n",
    "    time = (my_new_time[i])\n",
    "    \n",
    "    dlon = storm_lon - anl_lon\n",
    "    dlat = storm_lat - anl_lat\n",
    "    \n",
    "    a = sin(dlat / 2)**2 + cos(anl_lat) * cos(storm_lat) * sin(dlon / 2)**2\n",
    "    c = 2 * atan2(sqrt(a), sqrt(1-a))\n",
    "    R = 6373.0\n",
    "    distance = R * c\n",
    "#    print(distance)\n",
    "    \n",
    "#setting distance(s) to determine of ANL will be hit by a strom cell\n",
    "#distance of 12km was used because the average radius of a storm is 12km\n",
    "    if distance <= 12:\n",
    "        print('At', time, 'storm is forecsted to be at ANL')    "
   ]
  },
  {
   "cell_type": "code",
   "execution_count": null,
   "metadata": {},
   "outputs": [],
   "source": [
    "#animating using matplotlib and pyart\n",
    "def animate(nframe):\n",
    "    plt.clf()\n",
    "    localfile = tempfile.NamedTemporaryFile()\n",
    "    aws_radar.download_file(keys[nframe], localfile.name)\n",
    "    radar = pyart.io.read(localfile.name)\n",
    "    display = pyart.graph.RadarMapDisplay(radar)\n",
    "    # Delete radar after use to save memory.\n",
    "    del radar\n",
    "    display.plot_ppi_map('reflectivity', sweep=0, resolution='l',\n",
    "                         vmin=-8, vmax=64, mask_outside=True, \n",
    "                         fig=fig, width=85000, height=85000,\n",
    "                         cmap=pyart.graph.cm.LangRainbow12)\n",
    "    display.basemap.drawcounties()\n",
    "    display.plot_line_geo(lons[:nframe], lats[:nframe], '-ok', label='Observed storm path')\n",
    "    display.plot_line_geo(my_new_lon, my_new_lat, '--r', label='Forecasted storm path')\n",
    "    display.plot_point(-87.981810, 41.713969 , label_text='ANL', symbol='k*', label_offset=(-0.04,0.01))\n",
    "    plt.legend(loc=3)\n",
    "fig = plt.figure(figsize=(10, 8))\n",
    "#font = { 'family' : 'normal',\n",
    "#            'size'   : 15 }\n",
    "anim_klot = animation.FuncAnimation(fig, animate, \n",
    "                                    frames=len(keys))\n",
    "anim_klot.save(out_path_dir + '/ref_track_animation_test.gif', \n",
    "               writer='imagemagick', fps=1)\n",
    "\n",
    "plt.show()\n",
    "plt.close()"
   ]
  },
  {
   "cell_type": "code",
   "execution_count": null,
   "metadata": {},
   "outputs": [],
   "source": [
    "localfile = tempfile.NamedTemporaryFile()\n",
    "\n",
    "fig=plt.figure(figsize=(12,8))\n",
    "\n",
    "aws_radar.download_file(keys[-1], localfile.name)\n",
    "radar = pyart.io.read(localfile.name)\n",
    "display = pyart.graph.RadarMapDisplay(radar)\n",
    "#font = { 'family' : 'normal',\n",
    "#            'size'   : 15 }\n",
    "#matplotlib.rc('font', **font)\n",
    "display.plot_ppi_map('reflectivity', sweep=0, resolution='l', \n",
    "                     vmin=-8, vmax=64, mask_outside=True, \n",
    "                     width=90000, height=90000, \n",
    "                     cmap=pyart.graph.cm.LangRainbow12)\n",
    "display.basemap.drawcounties()\n",
    "#display.plot_line_geo(my_new_lon, my_new_lat, '--r')\n",
    "display.plot_line_geo(lons[-10:], lats[-10:], '-ok', label='Observed Storm Path')\n",
    "display.plot_line_geo(my_new_lon, my_new_lat, '--r', label='Forecasted Storm Path')\n",
    "display.plot_point(-87.981810, 41.713969 , label_text='ANL', symbol='k*', label_offset=(-0.04, 0.01))\n",
    "plt.legend(loc=4)\n",
    "\n",
    "plt.savefig(out_path_dir +'/reg_plot_radar.png', dpi=300, bbox_inches='tight')\n",
    "plt.show()\n",
    "plt.close()"
   ]
  },
  {
   "cell_type": "code",
   "execution_count": null,
   "metadata": {},
   "outputs": [],
   "source": [
    "localfile = tempfile.NamedTemporaryFile()\n",
    "fig, axs = plt.subplots(2,5, figsize=(15, 4), edgecolor='k')\n",
    "fig.subplots_adjust(hspace = .4, wspace=.511)\n",
    "\n",
    "axs = axs.ravel()\n",
    "\n",
    "for i in range(len(keys[-10:])):\n",
    "    aws_radar.download_file(keys[-10:][i], localfile.name)\n",
    "    radar = pyart.io.read(localfile.name)\n",
    "    display = pyart.graph.RadarMapDisplay(radar)\n",
    "    # Delete radar after use to save memory.\n",
    "    del radar\n",
    "    display.plot_ppi_map('reflectivity', ax=axs[i], sweep=0, resolution='l',\n",
    "                         vmin=-8, vmax=64, mask_outside=True, width=100000, height=100000,\n",
    "                         cmap=pyart.graph.cm.LangRainbow12)\n",
    "    display.basemap.drawcounties()\n",
    "    display.plot_line_geo(my_new_lon, my_new_lat, '--r')\n",
    "    display.plot_line_geo(lons[-10:][:i], lats[-10:][:i], '-k')\n",
    "    display.plot_point(-87.981810, 41.713969 , label_text='ANL', symbol='k.')\n",
    "#    font = { 'family' : 'normal',\n",
    "#            'size'   : 36 }\n",
    "\n",
    "#    matplotlib.rc('font', **font)\n",
    "\n",
    "#    matplotlib.rcParams.update({'font.size': 6})\n",
    "#    matplotlib.rcParams.update({'axes.titlesize': 8})\n",
    "plt.savefig(out_path_dir +'/storm_panel_plot.png', dpi=300)\n",
    "plt.show()\n",
    "plt.close()"
   ]
  }
 ],
 "metadata": {
  "kernelspec": {
   "display_name": "Python 3",
   "language": "python",
   "name": "python3"
  },
  "language_info": {
   "codemirror_mode": {
    "name": "ipython",
    "version": 3
   },
   "file_extension": ".py",
   "mimetype": "text/x-python",
   "name": "python",
   "nbconvert_exporter": "python",
   "pygments_lexer": "ipython3",
   "version": "3.6.4"
  }
 },
 "nbformat": 4,
 "nbformat_minor": 2
}
