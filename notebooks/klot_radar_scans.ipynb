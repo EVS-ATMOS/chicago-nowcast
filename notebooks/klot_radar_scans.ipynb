{
 "cells": [
  {
   "cell_type": "code",
   "execution_count": null,
   "metadata": {},
   "outputs": [],
   "source": [
    "######################\n",
    "# Jason Hemedinger\n",
    "# Argonne National Laboratory\n",
    "# This notebook will pull radar data from Amazon S3"
   ]
  },
  {
   "cell_type": "code",
   "execution_count": 1,
   "metadata": {},
   "outputs": [
    {
     "name": "stdout",
     "output_type": "stream",
     "text": [
      "\n",
      "## You are using the Python ARM Radar Toolkit (Py-ART), an open source\n",
      "## library for working with weather radar data. Py-ART is partly\n",
      "## supported by the U.S. Department of Energy as part of the Atmospheric\n",
      "## Radiation Measurement (ARM) Climate Research Facility, an Office of\n",
      "## Science user facility.\n",
      "##\n",
      "## If you use this software to prepare a publication, please cite:\n",
      "##\n",
      "##     JJ Helmus and SM Collis, JORS 2016, doi: 10.5334/jors.119\n",
      "\n"
     ]
    }
   ],
   "source": [
    "import pyart\n",
    "import boto3\n",
    "import tempfile\n",
    "import numpy as np\n",
    "import matplotlib.pyplot as plt\n",
    "from matplotlib import animation\n",
    "from botocore.handlers import disable_signing\n",
    "from tint import Cell_tracks, animate"
   ]
  },
  {
   "cell_type": "code",
   "execution_count": 2,
   "metadata": {},
   "outputs": [],
   "source": [
    "def get_current_scan(station_date, key_index):\n",
    "    '''\n",
    "    Function will pull the latest radar scan from any radar site using \n",
    "    Amazon S3.\n",
    "    ----------\n",
    "    station_date= 'year/month/day/station'\n",
    "    year = YYYY e.g. 1776\n",
    "    month = mm e.g. 07\n",
    "    day = dd e.g. 04\n",
    "    site = xxxx e.g. kdix\n",
    "    '''\n",
    "    bucket = 'noaa-nexrad-level2'\n",
    "    s3 = boto3.resource('s3')\n",
    "    s3.meta.client.meta.events.register('choose-signer.s3.*', disable_signing)\n",
    "    \n",
    "    aws_radar = s3.Bucket(bucket)\n",
    "    \n",
    "    for obj in aws_radar.objects.filter(Prefix= station_date):\n",
    "        '{0}:{1}'.format(aws_radar.name, obj.key)\n",
    "    my_list_of_keys = [this_object.key for this_object in aws_radar.objects.filter(Prefix= station_date)]\n",
    "    keys = my_list_of_keys[key_index:]\n",
    "    print(my_list_of_keys[key_index:])\n",
    "    \n",
    "    \n",
    "    return aws_radar, keys\n",
    "\n"
   ]
  },
  {
   "cell_type": "code",
   "execution_count": 3,
   "metadata": {},
   "outputs": [
    {
     "name": "stdout",
     "output_type": "stream",
     "text": [
      "['2018/06/06/KLOT/KLOT20180606_155419_V06', '2018/06/06/KLOT/KLOT20180606_155826_V06', '2018/06/06/KLOT/KLOT20180606_160232_V06', '2018/06/06/KLOT/KLOT20180606_160708_V06', '2018/06/06/KLOT/KLOT20180606_161143_V06', '2018/06/06/KLOT/KLOT20180606_161626_V06', '2018/06/06/KLOT/KLOT20180606_162057_V06', '2018/06/06/KLOT/KLOT20180606_162531_V06', '2018/06/06/KLOT/KLOT20180606_163020_V06', '2018/06/06/KLOT/KLOT20180606_163455_V06', '2018/06/06/KLOT/KLOT20180606_163929_V06', '2018/06/06/KLOT/KLOT20180606_164418_V06', '2018/06/06/KLOT/KLOT20180606_164907_V06', '2018/06/06/KLOT/KLOT20180606_165352_V06', '2018/06/06/KLOT/KLOT20180606_165835_V06', '2018/06/06/KLOT/KLOT20180606_170324_V06', '2018/06/06/KLOT/KLOT20180606_170804_V06', '2018/06/06/KLOT/KLOT20180606_171238_V06', '2018/06/06/KLOT/KLOT20180606_171712_V06', '2018/06/06/KLOT/KLOT20180606_172201_V06', '2018/06/06/KLOT/KLOT20180606_172651_V06', '2018/06/06/KLOT/KLOT20180606_173125_V06', '2018/06/06/KLOT/KLOT20180606_173604_V06', '2018/06/06/KLOT/KLOT20180606_174044_V06', '2018/06/06/KLOT/KLOT20180606_174523_V06', '2018/06/06/KLOT/KLOT20180606_175002_V06', '2018/06/06/KLOT/KLOT20180606_175437_V06', '2018/06/06/KLOT/KLOT20180606_175911_V06', '2018/06/06/KLOT/KLOT20180606_180345_V06', '2018/06/06/KLOT/KLOT20180606_180821_V06']\n"
     ]
    }
   ],
   "source": [
    "aws_radar, keys = get_current_scan('2018/06/06/KLOT', key_index=-30)"
   ]
  },
  {
   "cell_type": "code",
   "execution_count": 4,
   "metadata": {},
   "outputs": [],
   "source": [
    "max_lon = -87\n",
    "min_lon = -90\n",
    "max_lat = 43\n",
    "min_lat = 41\n",
    "lat_lines = np.arange(min_lat, max_lat, .2)\n",
    "lon_lines = np.arange(min_lon, max_lon, .5)"
   ]
  },
  {
   "cell_type": "code",
   "execution_count": 5,
   "metadata": {},
   "outputs": [],
   "source": [
    "def animate(nframe):\n",
    "    plt.clf()\n",
    "    localfile = tempfile.NamedTemporaryFile()\n",
    "    aws_radar.download_file(keys[nframe], localfile.name)\n",
    "    # Only pulling two scans for the sake of time and memory.\n",
    "    radar = pyart.io.read(localfile.name)\n",
    "    display = pyart.graph.RadarMapDisplay(radar)\n",
    "    # Delete radar after use to save memory.\n",
    "    del radar\n",
    "    display.plot_ppi_map('reflectivity', sweep=0, resolution='l',\n",
    "                         vmin=-8, vmax=64, mask_outside=False,\n",
    "                         cmap=pyart.graph.cm.NWSRef, min_lat=min_lat,\n",
    "                         max_lat=max_lat, min_lon=min_lon, max_lon=max_lon,\n",
    "                         lat_lines=lat_lines, lon_lines=lon_lines)\n",
    "    display.basemap.drawcounties()\n",
    "    display.plot_point(-87.981810, 41.713969 , label_text='ANL', color = 'k')\n",
    "fig = plt.figure(figsize=(10, 8))\n",
    "anim_klot = animation.FuncAnimation(fig, animate,\n",
    "                                    frames=len(keys))\n",
    "anim_klot.save('reflectivity_animation.gif',\n",
    "               writer='imagemagick', fps=2)\n",
    "plt.close()"
   ]
  },
  {
   "cell_type": "code",
   "execution_count": null,
   "metadata": {},
   "outputs": [],
   "source": []
  }
 ],
 "metadata": {
  "kernelspec": {
   "display_name": "Python 3",
   "language": "python",
   "name": "python3"
  },
  "language_info": {
   "codemirror_mode": {
    "name": "ipython",
    "version": 3
   },
   "file_extension": ".py",
   "mimetype": "text/x-python",
   "name": "python",
   "nbconvert_exporter": "python",
   "pygments_lexer": "ipython3",
   "version": "3.6.4"
  }
 },
 "nbformat": 4,
 "nbformat_minor": 2
}
